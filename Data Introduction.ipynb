{
 "cells": [
  {
   "cell_type": "markdown",
   "metadata": {},
   "source": [
    "Instance Based Learning Vs. Model Based Learning\n",
    "\n",
    "In the first course in this step, Machine Learning Fundamentals, we walked through the full machine learning workflow using the k-nearest neighbors algorithm. K-nearest neighbors works by finding similar, labelled examples from the training set for each instance in the test set and uses them to predict the label. K-nearest neighbors is known as an instance-based learning algorithm because it relies completely on previous instances to make predictions. The k-nearest neighbors algorithm doesn't try to understand or capture the relationship between the feature columns and the target column.\n",
    "\n",
    "Because the entire training dataset is used to find a new instance's nearest neighbors to make label predictions, this algorithm doesn't scale well to medium and larger datasets. If we have a million instances in our training data set and we want to make predictions for a hundred thousand new instances, we'd have to sort the million instances in the training set by Euclidean distance for each instance. The following diagram provides an overview of the complexity of k-nearest neighbors:\n",
    "\n",
    "KNN Complexity\n",
    "\n",
    "We need to instead learn about parametric machine learning approaches, like linear regression and logistic regression. Unlike the k-nearest neighbors algorithm, the result of the training process for these machine learning algorithms is a mathematical function that best approximates the patterns in the training set. In machine learning, this function is often referred to as a model.\n",
    "\n",
    "In this course, we'll explore the most commonly used machine learning model -- the linear regression model. Parametric machine learning approaches work by making assumptions about the relationship between the features and the target column. In linear regression, the approximate relationship between the feature columns and the target column is expressed as a linear regression equation:\n",
    "\n",
    "The following diagram provides an overview of the machine learning process for linear regression. For now, the goal isn't to understand the entire process but more to compare and contrast with the nonparametric approach of k-nearest neighbors.\n",
    "\n",
    "Model Based Learning\n",
    "\n",
    "In this mission, we'll provide an overview of how we use a linear regression model to make predictions. We'll use scikit-learn for the model training process, so we can focus on gaining intuition for the model-based learning approach to machine learning. In later missions in this course, we'll dive the math behind how a model is fit to the dataset, how to select and transform features, and more.\n"
   ]
  },
  {
   "cell_type": "markdown",
   "metadata": {},
   "source": [
    "Introduction To The Data\n",
    "\n",
    "To get familiar with this machine learning approach, we'll work with a dataset on sold houses in Ames, Iowa. Each row in the dataset describes the properties of a single house as well as the amount it was sold for. In this course, we'll build models that predict the final sale price from its other other attributes. Specifically, we'll explore the following questions:\n",
    "\n",
    "    Which properties of a house most affect the final sale price?\n",
    "    How effectively can we predict the sale price from just its properties?\n",
    "\n",
    "This dataset was originally compiled by Dean De Cock for the primary purpose of having a high quality dataset for regression. You can read more about his process and motivation here and download the dataset here.\n",
    "\n",
    "Here are some of the columns:\n",
    "\n",
    "    Lot Area: Lot size in square feet.\n",
    "    Overall Qual: Rates the overall material and finish of the house.\n",
    "    Overall Cond: Rates the overall condition of the house.\n",
    "    Year Built: Original construction date.\n",
    "    Low Qual Fin SF: Low quality finished square feet (all floors).\n",
    "    Full Bath: Full bathrooms above grade.\n",
    "    Fireplaces: Number of fireplaces.\n"
   ]
  }
 ],
 "metadata": {
  "anaconda-cloud": {},
  "kernelspec": {
   "display_name": "Python [default]",
   "language": "python",
   "name": "python2"
  },
  "language_info": {
   "codemirror_mode": {
    "name": "ipython",
    "version": 2
   },
   "file_extension": ".py",
   "mimetype": "text/x-python",
   "name": "python",
   "nbconvert_exporter": "python",
   "pygments_lexer": "ipython2",
   "version": "2.7.12"
  }
 },
 "nbformat": 4,
 "nbformat_minor": 1
}
